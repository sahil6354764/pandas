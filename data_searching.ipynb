{
 "cells": [
  {
   "cell_type": "code",
   "execution_count": 2,
   "id": "7c12b6c1-8306-495b-b7ed-b5571f02d2fd",
   "metadata": {},
   "outputs": [],
   "source": [
    "import pandas as pd"
   ]
  },
  {
   "cell_type": "code",
   "execution_count": 8,
   "id": "ded726f2-b6aa-4f8e-97a2-f41cd2af5d9f",
   "metadata": {},
   "outputs": [
    {
     "name": "stdout",
     "output_type": "stream",
     "text": [
      "   Index Customer Id First Name Last Name        Company       City Country  \\\n",
      "0      1       IN001      Aarav    Sharma        Infosys  Bengaluru   India   \n",
      "1      2       IN002      Priya     Patel            TCS     Mumbai   India   \n",
      "2      3       IN003      Rahul     Verma          Wipro  Hyderabad   India   \n",
      "3      4       IN004      Sneha     Reddy            HCL    Chennai   India   \n",
      "4      5       IN005     Vikram     Mehta  Tech Mahindra       Pune   India   \n",
      "\n",
      "      Phone 1       Phone 2              Email Subscription Date  \\\n",
      "0 -9876543119 -8.765432e+09  aarav@infosys.com        12-05-2023   \n",
      "1 -9123456698           NaN      priya@tcs.com        07-11-2022   \n",
      "2 -9988776564 -9.666554e+09    rahul@wipro.com        20-02-2023   \n",
      "3 -9090908999           NaN      sneha@hcl.com        18-08-2022   \n",
      "4 -8877665453 -7.766554e+09   vikram@techm.com        03-07-2023   \n",
      "\n",
      "                        Website  \n",
      "0       https://www.infosys.com  \n",
      "1           https://www.tcs.com  \n",
      "2         https://www.wipro.com  \n",
      "3       https://www.hcltech.com  \n",
      "4  https://www.techmahindra.com  \n"
     ]
    }
   ],
   "source": [
    "df = pd.read_csv('indian_customer_data.csv')\n",
    "print(df.head())"
   ]
  },
  {
   "cell_type": "code",
   "execution_count": 9,
   "id": "5fdbf176-4133-4881-983c-0a814e777a1d",
   "metadata": {},
   "outputs": [
    {
     "data": {
      "text/plain": [
       "0    Bengaluru\n",
       "1       Mumbai\n",
       "2    Hyderabad\n",
       "3      Chennai\n",
       "4         Pune\n",
       "Name: City, dtype: object"
      ]
     },
     "execution_count": 9,
     "metadata": {},
     "output_type": "execute_result"
    }
   ],
   "source": [
    "df.City"
   ]
  },
  {
   "cell_type": "code",
   "execution_count": 15,
   "id": "d5b25371-5aec-4fda-a2d5-05fc69f8be97",
   "metadata": {},
   "outputs": [
    {
     "data": {
      "text/plain": [
       "0    IN001\n",
       "1    IN002\n",
       "2    IN003\n",
       "3    IN004\n",
       "4    IN005\n",
       "Name: Customer Id, dtype: object"
      ]
     },
     "execution_count": 15,
     "metadata": {},
     "output_type": "execute_result"
    }
   ],
   "source": [
    "df['Customer Id']"
   ]
  },
  {
   "cell_type": "code",
   "execution_count": 24,
   "id": "d2ffad5b-a413-4505-b91a-b7f17c7bff1a",
   "metadata": {},
   "outputs": [
    {
     "data": {
      "text/html": [
       "<div>\n",
       "<style scoped>\n",
       "    .dataframe tbody tr th:only-of-type {\n",
       "        vertical-align: middle;\n",
       "    }\n",
       "\n",
       "    .dataframe tbody tr th {\n",
       "        vertical-align: top;\n",
       "    }\n",
       "\n",
       "    .dataframe thead th {\n",
       "        text-align: right;\n",
       "    }\n",
       "</style>\n",
       "<table border=\"1\" class=\"dataframe\">\n",
       "  <thead>\n",
       "    <tr style=\"text-align: right;\">\n",
       "      <th></th>\n",
       "      <th>Index</th>\n",
       "      <th>Customer Id</th>\n",
       "      <th>First Name</th>\n",
       "      <th>Last Name</th>\n",
       "      <th>Company</th>\n",
       "      <th>City</th>\n",
       "      <th>Country</th>\n",
       "      <th>Phone 1</th>\n",
       "      <th>Phone 2</th>\n",
       "      <th>Email</th>\n",
       "      <th>Subscription Date</th>\n",
       "      <th>Website</th>\n",
       "    </tr>\n",
       "  </thead>\n",
       "  <tbody>\n",
       "    <tr>\n",
       "      <th>1</th>\n",
       "      <td>2</td>\n",
       "      <td>IN002</td>\n",
       "      <td>Priya</td>\n",
       "      <td>Patel</td>\n",
       "      <td>TCS</td>\n",
       "      <td>Mumbai</td>\n",
       "      <td>India</td>\n",
       "      <td>-9123456698</td>\n",
       "      <td>NaN</td>\n",
       "      <td>priya@tcs.com</td>\n",
       "      <td>07-11-2022</td>\n",
       "      <td>https://www.tcs.com</td>\n",
       "    </tr>\n",
       "  </tbody>\n",
       "</table>\n",
       "</div>"
      ],
      "text/plain": [
       "   Index Customer Id First Name Last Name Company    City Country     Phone 1  \\\n",
       "1      2       IN002      Priya     Patel     TCS  Mumbai   India -9123456698   \n",
       "\n",
       "   Phone 2          Email Subscription Date              Website  \n",
       "1      NaN  priya@tcs.com        07-11-2022  https://www.tcs.com  "
      ]
     },
     "execution_count": 24,
     "metadata": {},
     "output_type": "execute_result"
    }
   ],
   "source": [
    "df[df['Customer Id'] == 'IN002']"
   ]
  },
  {
   "cell_type": "code",
   "execution_count": null,
   "id": "e059576d-c916-448f-a1d3-36697ad3f3dc",
   "metadata": {},
   "outputs": [],
   "source": []
  },
  {
   "cell_type": "code",
   "execution_count": null,
   "id": "c26eba6a-aaf2-4891-94ae-9f4f817b6a97",
   "metadata": {},
   "outputs": [],
   "source": []
  }
 ],
 "metadata": {
  "kernelspec": {
   "display_name": "Python 3 (ipykernel)",
   "language": "python",
   "name": "python3"
  },
  "language_info": {
   "codemirror_mode": {
    "name": "ipython",
    "version": 3
   },
   "file_extension": ".py",
   "mimetype": "text/x-python",
   "name": "python",
   "nbconvert_exporter": "python",
   "pygments_lexer": "ipython3",
   "version": "3.11.6"
  }
 },
 "nbformat": 4,
 "nbformat_minor": 5
}
