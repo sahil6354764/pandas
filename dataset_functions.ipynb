{
 "cells": [
  {
   "cell_type": "code",
   "execution_count": 23,
   "id": "ff79be33-96da-4429-9783-150a9e4426d3",
   "metadata": {},
   "outputs": [
    {
     "name": "stdout",
     "output_type": "stream",
     "text": [
      "      Name        Date   Amount       Category\n",
      "0    Meera  2024-04-27   498.31  Entertainment\n",
      "1    Sunil  2024-04-11  8433.55      Transport\n",
      "2    Sunil  2024-04-16   968.01      Groceries\n",
      "3   Anjali  2024-02-17  6866.34           Rent\n",
      "4   Kashak  2024-03-30  4875.09  Entertainment\n",
      "5   Kashak  2024-02-03  7285.57        Medical\n",
      "6    Meera  2024-05-06  6640.34        Medical\n",
      "7    Meera  2024-01-19  7035.19      Utilities\n",
      "8    Vivan  2024-03-25  6375.93           Rent\n",
      "9   Anjali  2024-05-02  6356.10        Medical\n",
      "10   Sahil  2024-03-07  7326.34  Entertainment\n",
      "11   Sunil  2024-01-26  4375.69  Entertainment\n",
      "12  Kashak  2024-02-21  1818.72           Rent\n",
      "13  Anjali  2024-03-28  5417.82           Rent\n",
      "14  Kashak  2024-04-02   465.86      Groceries\n",
      "15   Sunil  2024-01-08   179.95      Groceries\n",
      "16   Meera  2024-03-21  2156.85        Medical\n",
      "17  Kashak  2024-04-01  5141.16      Groceries\n",
      "18  Kashak  2024-04-12  7559.71  Entertainment\n",
      "19  Kashak  2024-02-14  6468.25  Entertainment\n",
      "20    Neha  2024-01-25   718.78      Utilities\n",
      "21    Neha  2024-04-15  9371.07      Groceries\n"
     ]
    }
   ],
   "source": [
    "# for making randomly dataset. \n",
    "\n",
    "\n",
    "\n",
    "import pandas as pd\n",
    "import random\n",
    "from datetime import datetime, timedelta\n",
    "\n",
    "\n",
    "# add some data to choose randomly\n",
    "names = [\"Sahil\", \"Kashak\", \"Vivan\", \"Sunil\", \"Anjali\", \"Meera\", \"Raj\", \"Neha\"]\n",
    "categories = [\"Groceries\", \"Utilities\", \"Rent\", \"Entertainment\", \"Transport\", \"Medical\"]\n",
    "\n",
    "data = []\n",
    "#for start date\n",
    "start_date = datetime(2024, 1, 1)\n",
    "\n",
    "#generate dataset using loop randomly in count 45. means 45 lines for data . with startind index 0. \n",
    "for i in range(45):\n",
    "    name = random.choice(names)\n",
    "    date = start_date + timedelta(days=random.randint(0, 150))\n",
    "    amount = round(random.uniform(100, 10000), 2)\n",
    "    category = random.choice(categories)\n",
    "#for add data in dataset [Name, date , Amount, Category]\n",
    "    data.append([name, date.strftime(\"%Y-%m-%d\"), amount, category])\n",
    "\n",
    "\n",
    "#for make dataframe of the data. \n",
    "df = pd.DataFrame(data, columns=[\"Name\", \"Date\", \"Amount\", \"Category\"])\n",
    "\n",
    "#convert to csv file formate\n",
    "df.to_csv(\"study_dataset.csv\", index=False)\n",
    "\n",
    "\n",
    "#read data of up to down formate and also in which range.\n",
    "print(df.head(22))\n"
   ]
  },
  {
   "cell_type": "code",
   "execution_count": 28,
   "id": "009fa481-b022-4308-94a8-96d29444980e",
   "metadata": {},
   "outputs": [
    {
     "name": "stdout",
     "output_type": "stream",
     "text": [
      "      Name        Date   Amount       Category\n",
      "0    Meera  2024-04-27   498.31  Entertainment\n",
      "1    Sunil  2024-04-11  8433.55      Transport\n",
      "2    Sunil  2024-04-16   968.01      Groceries\n",
      "3   Anjali  2024-02-17  6866.34           Rent\n",
      "4   Kashak  2024-03-30  4875.09  Entertainment\n",
      "5   Kashak  2024-02-03  7285.57        Medical\n",
      "6    Meera  2024-05-06  6640.34        Medical\n",
      "7    Meera  2024-01-19  7035.19      Utilities\n",
      "8    Vivan  2024-03-25  6375.93           Rent\n",
      "9   Anjali  2024-05-02  6356.10        Medical\n",
      "10   Sahil  2024-03-07  7326.34  Entertainment\n",
      "11   Sunil  2024-01-26  4375.69  Entertainment\n",
      "12  Kashak  2024-02-21  1818.72           Rent\n",
      "13  Anjali  2024-03-28  5417.82           Rent\n",
      "14  Kashak  2024-04-02   465.86      Groceries\n",
      "15   Sunil  2024-01-08   179.95      Groceries\n",
      "16   Meera  2024-03-21  2156.85        Medical\n",
      "17  Kashak  2024-04-01  5141.16      Groceries\n",
      "18  Kashak  2024-04-12  7559.71  Entertainment\n",
      "19  Kashak  2024-02-14  6468.25  Entertainment\n",
      "20    Neha  2024-01-25   718.78      Utilities\n",
      "21    Neha  2024-04-15  9371.07      Groceries\n",
      "22   Sahil  2024-03-13  5893.84           Rent\n",
      "23   Vivan  2024-02-14  9147.53        Medical\n",
      "24   Sunil  2024-05-01  2153.97  Entertainment\n",
      "25   Sahil  2024-04-25  9573.07        Medical\n",
      "26    Neha  2024-03-31   585.59        Medical\n",
      "27   Meera  2024-04-01  3233.80  Entertainment\n",
      "28   Sahil  2024-05-08  6414.14      Utilities\n",
      "29   Vivan  2024-03-22  6946.18  Entertainment\n",
      "30  Anjali  2024-04-15  4972.14      Utilities\n",
      "31  Anjali  2024-02-25  3453.72      Utilities\n",
      "32    Neha  2024-02-23  6027.13      Utilities\n",
      "33   Sahil  2024-05-15  5844.34        Medical\n",
      "34    Neha  2024-05-03  1119.41        Medical\n",
      "35   Sahil  2024-04-23  7686.87  Entertainment\n",
      "36   Sahil  2024-01-19  2730.95      Transport\n",
      "37   Meera  2024-02-20  2481.82  Entertainment\n",
      "38    Neha  2024-01-02  2322.49      Groceries\n",
      "39   Meera  2024-04-15  9507.66      Utilities\n",
      "40   Sahil  2024-01-27  2793.54        Medical\n",
      "41    Neha  2024-02-04  2571.29      Groceries\n",
      "42    Neha  2024-05-01   788.07  Entertainment\n",
      "43   Sahil  2024-02-05  5978.89      Utilities\n",
      "44   Meera  2024-02-26  1125.77        Medical\n"
     ]
    }
   ],
   "source": [
    "#load csv file \n",
    "\n",
    "dataset = pd.read_csv('study_dataset.csv')\n",
    "print(dataset.head(45))\n",
    "\n"
   ]
  },
  {
   "cell_type": "code",
   "execution_count": 8,
   "id": "83289b7e-77bf-4a64-89e2-08d598bbd54a",
   "metadata": {},
   "outputs": [
    {
     "name": "stdout",
     "output_type": "stream",
     "text": [
      "0    4782.52\n",
      "1    9846.47\n",
      "2    5605.47\n",
      "3    3049.59\n",
      "4    2816.88\n",
      "5    7546.46\n",
      "6    2574.49\n",
      "7    6317.15\n",
      "8    8303.07\n",
      "9     448.72\n",
      "Name: Amount, dtype: float64\n"
     ]
    }
   ],
   "source": [
    "#find perticuler data from dataset \n",
    "amount_data = dataset.loc[:, 'Amount']\n",
    "print(amount_data.head(10))"
   ]
  },
  {
   "cell_type": "code",
   "execution_count": 11,
   "id": "21971308-061d-4027-99b6-6d84c34c2d55",
   "metadata": {},
   "outputs": [
    {
     "name": "stdout",
     "output_type": "stream",
     "text": [
      "0          Medical\n",
      "1        Groceries\n",
      "2          Medical\n",
      "3        Transport\n",
      "4    Entertainment\n",
      "5             Rent\n",
      "6        Transport\n",
      "7    Entertainment\n",
      "8        Transport\n",
      "9          Medical\n",
      "Name: Category, dtype: object\n"
     ]
    }
   ],
   "source": [
    "#find perticuler data from dataset \n",
    "category_data = dataset.loc[:, 'Category']\n",
    "print(category_data.head(10))"
   ]
  },
  {
   "cell_type": "code",
   "execution_count": 29,
   "id": "5bf2a49d-3709-4f26-a619-4705e28af419",
   "metadata": {},
   "outputs": [
    {
     "name": "stdout",
     "output_type": "stream",
     "text": [
      "0      Meera\n",
      "1      Sunil\n",
      "2      Sunil\n",
      "3     Anjali\n",
      "4     Kashak\n",
      "5     Kashak\n",
      "6      Meera\n",
      "7      Meera\n",
      "8      Vivan\n",
      "9     Anjali\n",
      "10     Sahil\n",
      "11     Sunil\n",
      "12    Kashak\n",
      "13    Anjali\n",
      "14    Kashak\n",
      "15     Sunil\n",
      "16     Meera\n",
      "17    Kashak\n",
      "18    Kashak\n",
      "19    Kashak\n",
      "Name: Name, dtype: object\n"
     ]
    }
   ],
   "source": [
    "#find perticuler data from dataset \n",
    "\n",
    "Name_data = dataset.loc[:, 'Name']\n",
    "print(Name_data.head(20))"
   ]
  },
  {
   "cell_type": "code",
   "execution_count": 20,
   "id": "f488f7de-5bb3-4b18-ad3a-a33d1294fc97",
   "metadata": {},
   "outputs": [
    {
     "name": "stdout",
     "output_type": "stream",
     "text": [
      "1     Kashak\n",
      "18     Sunil\n",
      "22     Sahil\n",
      "24     Sunil\n",
      "26     Vivan\n",
      "29     Meera\n",
      "32       Raj\n",
      "37     Sunil\n",
      "Name: Name, dtype: object\n"
     ]
    }
   ],
   "source": [
    "#find perticular data for each category.\n",
    "\n",
    "names_in_groceries = dataset.loc[dataset['Category'] == 'Groceries', 'Name']\n",
    "print(names_in_groceries.head(10))"
   ]
  },
  {
   "cell_type": "code",
   "execution_count": 30,
   "id": "50a6b08c-77f0-408a-9ead-518cb0e60480",
   "metadata": {},
   "outputs": [
    {
     "name": "stdout",
     "output_type": "stream",
     "text": [
      "2      Sunil\n",
      "14    Kashak\n",
      "15     Sunil\n",
      "17    Kashak\n",
      "21      Neha\n",
      "38      Neha\n",
      "41      Neha\n",
      "Name: Name, dtype: object\n"
     ]
    }
   ],
   "source": [
    "subset = dataset.loc[1:45]  # for Get rows \n",
    "names_in_groceries = subset.loc[subset['Category'] == 'Groceries', 'Name']\n",
    "print(names_in_groceries.head(45))\n"
   ]
  },
  {
   "cell_type": "code",
   "execution_count": 31,
   "id": "ff3c93be-f2ea-44fa-9d6d-ea34d147193b",
   "metadata": {},
   "outputs": [
    {
     "data": {
      "image/png": "[encoded data removed]",
      "text/plain": [
       "<Figure size 800x500 with 1 Axes>"
      ]
     },
     "metadata": {},
     "output_type": "display_data"
    }
   ],
   "source": [
    "import matplotlib.pyplot as plt\n",
    "\n",
    "\n",
    "category_summary = dataset.groupby('Category')['Amount'].sum().sort_values(ascending=False)\n",
    "\n",
    "# Plot\n",
    "plt.figure(figsize=(8, 5))\n",
    "category_summary.plot(kind='bar', color='skyblue', edgecolor='black')\n",
    "\n",
    "# Add labels and title\n",
    "plt.title('Total Amount Spent per Category')\n",
    "plt.xlabel('Category')\n",
    "plt.ylabel('Total Amount')\n",
    "plt.xticks(rotation=45)\n",
    "plt.tight_layout()\n",
    "plt.grid(axis='y', linestyle='--', alpha=0.7)\n",
    "\n",
    "# Show plot\n",
    "plt.show()"
   ]
  },
  {
   "cell_type": "code",
   "execution_count": null,
   "id": "60f51501-0c50-4db4-a47b-8cae56930d14",
   "metadata": {},
   "outputs": [],
   "source": []
  }
 ],
 "metadata": {
  "kernelspec": {
   "display_name": "Python 3 (ipykernel)",
   "language": "python",
   "name": "python3"
  },
  "language_info": {
   "codemirror_mode": {
    "name": "ipython",
    "version": 3
   },
   "file_extension": ".py",
   "mimetype": "text/x-python",
   "name": "python",
   "nbconvert_exporter": "python",
   "pygments_lexer": "ipython3",
   "version": "3.11.6"
  }
 },
 "nbformat": 4,
 "nbformat_minor": 5
}
